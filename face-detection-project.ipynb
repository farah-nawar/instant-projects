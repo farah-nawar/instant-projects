{
 "cells": [
  {
   "cell_type": "code",
   "execution_count": 10,
   "id": "49a9825e",
   "metadata": {},
   "outputs": [],
   "source": [
    "import face_recognition as fr"
   ]
  },
  {
   "cell_type": "code",
   "execution_count": 11,
   "id": "98eb6e33",
   "metadata": {},
   "outputs": [],
   "source": [
    "import cv2"
   ]
  },
  {
   "cell_type": "code",
   "execution_count": 12,
   "id": "79eb9f6d",
   "metadata": {},
   "outputs": [],
   "source": [
    "import numpy as np"
   ]
  },
  {
   "cell_type": "code",
   "execution_count": 13,
   "id": "cc6ec8e1",
   "metadata": {},
   "outputs": [],
   "source": [
    "video_capture= cv2.VideoCapture(0)\n",
    "image= fr.load_image_file(r\"C:\\Users\\lenovo\\Downloads\\will smith.jpg\")"
   ]
  },
  {
   "cell_type": "code",
   "execution_count": 14,
   "id": "72a44c66",
   "metadata": {},
   "outputs": [],
   "source": [
    "img_face_encoding=fr.face_encodings(image)[0]"
   ]
  },
  {
   "cell_type": "code",
   "execution_count": 15,
   "id": "60588786",
   "metadata": {},
   "outputs": [],
   "source": [
    "known_face_encoding=[img_face_encoding]\n",
    "known_face_names=['Will smith']"
   ]
  },
  {
   "cell_type": "code",
   "execution_count": null,
   "id": "4a0db8e4",
   "metadata": {},
   "outputs": [],
   "source": [
    "while True:\n",
    "    ret, frame = video_capture.read()\n",
    "    rgb_frame = frame[:, :, ::-1]\n",
    "\n",
    "    # Detect faces in the frame\n",
    "    face_locations = fr.face_locations(rgb_frame)\n",
    "    face_encodings = fr.face_encodings(rgb_frame, face_locations)\n",
    "\n",
    "    for (top, right, bottom, left), face_encoding in zip(face_locations, face_encodings):\n",
    "        # Compare the face with known faces\n",
    "        matches = fr.compare_faces(known_face_encoding, face_encoding)\n",
    "        name = \"Unknown\"\n",
    "        \n",
    "        # Calculate face distance\n",
    "        face_distances = fr.face_distance(known_face_encoding, face_encoding)\n",
    "        match_index = np.argmin(face_distances)\n",
    "\n",
    "        if matches[match_index]:\n",
    "            name = known_face_names[match_index]\n",
    "\n",
    "        # Draw rectangle around the face and label\n",
    "        cv2.rectangle(frame, (left, top), (right, bottom), (0, 0, 255), 2)\n",
    "        cv2.rectangle(frame, (left, bottom - 35), (right, bottom), (0, 0, 255), cv2.FILLED)\n",
    "        font = cv2.FONT_HERSHEY_SIMPLEX\n",
    "        cv2.putText(frame, name, (left + 6, bottom - 6), font, 1.0, (255, 255, 255), 1)\n",
    "\n",
    "    # Display the frame\n",
    "    cv2.imshow('Face Detection System', frame)\n",
    "\n",
    "    # Quit when 'q' is pressed\n",
    "    if cv2.waitKey(1) & 0xFF == ord('q'):\n",
    "        break\n",
    "\n",
    "# Release the video capture and close the window\n",
    "video_capture.release()\n",
    "cv2.destroyAllWindows()"
   ]
  },
  {
   "cell_type": "code",
   "execution_count": null,
   "id": "f0dad17e",
   "metadata": {},
   "outputs": [],
   "source": []
  }
 ],
 "metadata": {
  "kernelspec": {
   "display_name": "Python 3",
   "language": "python",
   "name": "python3"
  },
  "language_info": {
   "codemirror_mode": {
    "name": "ipython",
    "version": 3
   },
   "file_extension": ".py",
   "mimetype": "text/x-python",
   "name": "python",
   "nbconvert_exporter": "python",
   "pygments_lexer": "ipython3",
   "version": "3.6.13"
  }
 },
 "nbformat": 4,
 "nbformat_minor": 5
}
